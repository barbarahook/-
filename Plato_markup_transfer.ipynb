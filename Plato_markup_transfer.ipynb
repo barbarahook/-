{
  "cells": [
    {
      "cell_type": "markdown",
      "metadata": {
        "id": "view-in-github",
        "colab_type": "text"
      },
      "source": [
        "<a href=\"https://colab.research.google.com/github/barbarahook/PLATO-S-VOICES/blob/main/Plato_markup_transfer.ipynb\" target=\"_parent\"><img src=\"https://colab.research.google.com/assets/colab-badge.svg\" alt=\"Open In Colab\"/></a>"
      ]
    },
    {
      "cell_type": "markdown",
      "id": "93b36958",
      "metadata": {
        "id": "93b36958"
      },
      "source": [
        "# Скачиваем файлы"
      ]
    },
    {
      "cell_type": "code",
      "execution_count": null,
      "id": "0337e95b",
      "metadata": {
        "ExecuteTime": {
          "end_time": "2023-05-29T17:07:33.442094Z",
          "start_time": "2023-05-29T17:07:32.123860Z"
        },
        "id": "0337e95b",
        "outputId": "323b73fc-97e1-4ad4-a48a-d46e54626544"
      },
      "outputs": [
        {
          "name": "stdout",
          "output_type": "stream",
          "text": [
            "--2023-05-29 20:07:32--  https://raw.githubusercontent.com/PerseusDL/canonical-greekLit/master/data/tlg0059/tlg011/tlg0059.tlg011.perseus-eng2.xml\n",
            "Распознаётся raw.githubusercontent.com (raw.githubusercontent.com)… 2606:50c0:8001::154, 2606:50c0:8000::154, 2606:50c0:8003::154, ...\n",
            "Подключение к raw.githubusercontent.com (raw.githubusercontent.com)|2606:50c0:8001::154|:443... соединение установлено.\n",
            "HTTP-запрос отправлен. Ожидание ответа… 200 OK\n",
            "Длина: 191729 (187K) [text/plain]\n",
            "Сохранение в: «tlg0059.tlg011.perseus-eng2.xml.1»\n",
            "\n",
            "tlg0059.tlg011.pers 100%[===================>] 187,24K  --.-KB/s    за 0,09s   \n",
            "\n",
            "2023-05-29 20:07:32 (1,98 MB/s) - «tlg0059.tlg011.perseus-eng2.xml.1» сохранён [191729/191729]\n",
            "\n",
            "--2023-05-29 20:07:32--  https://raw.githubusercontent.com/PerseusDL/canonical-greekLit/master/data/tlg0059/tlg011/tlg0059.tlg011.perseus-grc2.xml\n",
            "Распознаётся raw.githubusercontent.com (raw.githubusercontent.com)… 2606:50c0:8001::154, 2606:50c0:8000::154, 2606:50c0:8003::154, ...\n",
            "Подключение к raw.githubusercontent.com (raw.githubusercontent.com)|2606:50c0:8001::154|:443... соединение установлено.\n",
            "HTTP-запрос отправлен. Ожидание ответа… 200 OK\n",
            "Длина: 245372 (240K) [text/plain]\n",
            "Сохранение в: «tlg0059.tlg011.perseus-grc2.xml.1»\n",
            "\n",
            "tlg0059.tlg011.pers 100%[===================>] 239,62K  --.-KB/s    за 0,1s    \n",
            "\n",
            "2023-05-29 20:07:33 (2,43 MB/s) - «tlg0059.tlg011.perseus-grc2.xml.1» сохранён [245372/245372]\n",
            "\n"
          ]
        }
      ],
      "source": [
        "!wget https://raw.githubusercontent.com/PerseusDL/canonical-greekLit/master/data/tlg0059/tlg011/tlg0059.tlg011.perseus-eng2.xml\n",
        "!wget https://raw.githubusercontent.com/PerseusDL/canonical-greekLit/master/data/tlg0059/tlg011/tlg0059.tlg011.perseus-grc2.xml"
      ]
    },
    {
      "cell_type": "markdown",
      "id": "f19928ff",
      "metadata": {
        "id": "f19928ff"
      },
      "source": [
        "# Импортируем модули"
      ]
    },
    {
      "cell_type": "code",
      "execution_count": null,
      "id": "e69342ba",
      "metadata": {
        "ExecuteTime": {
          "end_time": "2023-05-29T20:15:34.869045Z",
          "start_time": "2023-05-29T20:15:34.861962Z"
        },
        "id": "e69342ba"
      },
      "outputs": [],
      "source": [
        "import re\n",
        "from bs4 import BeautifulSoup\n",
        "from lxml import etree"
      ]
    },
    {
      "cell_type": "markdown",
      "id": "e8c5ddf6",
      "metadata": {
        "id": "e8c5ddf6"
      },
      "source": [
        "# Открываем файлы"
      ]
    },
    {
      "cell_type": "code",
      "execution_count": null,
      "id": "c1ce2b57",
      "metadata": {
        "ExecuteTime": {
          "end_time": "2023-05-29T17:08:45.290659Z",
          "start_time": "2023-05-29T17:08:44.868145Z"
        },
        "id": "c1ce2b57"
      },
      "outputs": [],
      "source": [
        "with open(\"tlg0059.tlg011.perseus-eng2.xml\") as fp:\n",
        "    eng_soup = BeautifulSoup(fp, 'lxml')\n",
        "with open(\"tlg0059.tlg011.perseus-grc2.xml\") as fp:\n",
        "    greek_soup = BeautifulSoup(fp, 'lxml')"
      ]
    },
    {
      "cell_type": "code",
      "execution_count": null,
      "id": "ba30013e",
      "metadata": {
        "ExecuteTime": {
          "end_time": "2023-05-29T13:35:28.737917Z",
          "start_time": "2023-05-29T13:35:28.728157Z"
        },
        "id": "ba30013e"
      },
      "outputs": [],
      "source": [
        "with open(\"tlg0059.tlg011.perseus-grc2.xml\") as fp:\n",
        "    lines = fp.readlines()\n",
        "head = lines[:92]\n",
        "bottom = lines[572:]"
      ]
    },
    {
      "cell_type": "code",
      "execution_count": null,
      "id": "14968035",
      "metadata": {
        "ExecuteTime": {
          "end_time": "2023-05-29T13:32:33.865002Z",
          "start_time": "2023-05-29T13:32:33.831531Z"
        },
        "id": "14968035"
      },
      "outputs": [],
      "source": [
        "eng_pages = eng_soup.find_all('div', {\"subtype\": \"section\"})\n",
        "greek_pages = greek_soup.find_all('div', {\"subtype\": \"section\"})"
      ]
    },
    {
      "cell_type": "code",
      "execution_count": null,
      "id": "ba7c7e91",
      "metadata": {
        "ExecuteTime": {
          "end_time": "2023-05-29T14:03:18.778522Z",
          "start_time": "2023-05-29T14:03:18.770880Z"
        },
        "id": "ba7c7e91"
      },
      "outputs": [],
      "source": [
        "def space_elim(string):\n",
        "    string = string.replace(\"\\n\", \"\")\n",
        "    string = re.sub(r\">[\\n \\t\\r\\s]+<\", \"><\", string, flags=re.MULTILINE)\n",
        "    string = re.sub('\\\\s+', ' ', string)\n",
        "    return string"
      ]
    },
    {
      "cell_type": "code",
      "execution_count": null,
      "id": "3dfda9d1",
      "metadata": {
        "ExecuteTime": {
          "end_time": "2023-05-29T15:50:54.266784Z",
          "start_time": "2023-05-29T15:50:54.254519Z"
        },
        "id": "3dfda9d1",
        "outputId": "b588d7b8-f36a-452b-e4c6-018cb1bf8984"
      },
      "outputs": [
        {
          "name": "stdout",
          "output_type": "stream",
          "text": [
            "<div n=\"189\" resp=\"perseus\" subtype=\"section\" type=\"textpart\"><milestone n=\"189\" resp=\"Stephanus\" unit=\"page\"></milestone><milestone n=\"189a\" resp=\"Stephanus\" unit=\"section\"></milestone><p><said rend=\"merge\" who=\"#Apollodorus\"><milestone ed=\"P\" unit=\"para\"></milestone>Then, as my friend related, Aristophanes took up the word and said: <q type=\"spoken\">Yes, it has stopped, though not until it was treated with a course of sneezing, such as leaves me wondering that the orderly principle of the body should call for the noises and titillations involved in sneezing; you see, it stopped the very moment I applied the sneeze to it.</q><milestone ed=\"P\" unit=\"para\"></milestone><q type=\"spoken\">My good Aristophanes,</q> replied Eryximachus, <q type=\"spoken\">take heed what you are about. Here are you buffooning before ever you begin, and compelling me <milestone n=\"189b\" resp=\"Stephanus\" unit=\"section\"></milestone> to be on the watch for the first absurdity in your speech, when you might deliver it in peace.</q><milestone ed=\"P\" unit=\"para\"></milestone>At this Aristophanes laughed, and <q type=\"spoken\">Quite right, Eryximachus,</q> he said; <q type=\"spoken\">I unsay all that I have said. Do not keep a watch on me for as to what is going to be said, my fear is not so much of saying something absurd—since that would be all to the good and native to my Muse—as something utterly ridiculous.</q><milestone ed=\"P\" unit=\"para\"></milestone><q type=\"spoken\">You think you can just let fly, Aristophanes, and get off unscathed! Have a good care to speak only what you can defend; <milestone n=\"189c\" resp=\"Stephanus\" unit=\"section\"></milestone> though perhaps I may be pleased to let you off altogether.</q><label>The Speech of Aristophanes</label><milestone ed=\"P\" unit=\"para\"></milestone><said direct=\"false\" who=\"#Aristophanes\">It is indeed my intention, Eryximachus,</said> said Aristophanes, <said direct=\"false\" who=\"#Aristophanes\">to speak in somewhat different strain from you and Pausanias. For in my opinion humanity has entirely failed to perceive the power of Love: if men did perceive it, they would have provided him with splendid temples and altars, and would splendidly honor him with sacrifice; whereas we see none of these things done for him, though they are especially his due. <milestone n=\"189d\" resp=\"Stephanus\" unit=\"section\"></milestone> He of all gods is most friendly to men; he succors mankind and heals those ills whose cure must be the highest happiness of the human race. Hence I shall try and introduce you to his power, that you may transmit this teaching to the world at large. You must begin your lesson with the nature of man and its development. For our original nature was by no means the same as it is now. In the first place, there were three kinds of human beings, <milestone n=\"189e\" resp=\"Stephanus\" unit=\"section\"></milestone> not merely the two sexes, male and female, as at present: there was a third kind as well, which had equal shares of the other two, and whose name survives though, the thing itself has vanished. For <q type=\"emph\">man-woman</q><note anchored=\"true\" resp=\"Loeb\">i.e. <q type=\"emph\">hermaphrodite</q>; cf. Lucret. v. 837ff.</note> was then a unity in form no less than name, composed of both sexes and sharing equally in male and female; whereas now it has come to be merely a name of reproach.</said></said></p></div>\n"
          ]
        }
      ],
      "source": [
        "#print(eng_pages[5])\n",
        "print(space_elim(str(eng_pages[17])))"
      ]
    },
    {
      "cell_type": "code",
      "execution_count": null,
      "id": "845474e7",
      "metadata": {
        "ExecuteTime": {
          "end_time": "2023-05-29T15:49:23.795654Z",
          "start_time": "2023-05-29T15:49:23.783959Z"
        },
        "id": "845474e7",
        "outputId": "9cba48c8-b835-477e-b7cd-2b3bb7111a90"
      },
      "outputs": [
        {
          "name": "stdout",
          "output_type": "stream",
          "text": [
            "<div n=\"186\" resp=\"perseus\" subtype=\"section\" type=\"textpart\"><p><said rend=\"merge\" who=\"#Ἀπολλόδωρος\"><milestone ed=\"P\" unit=\"para\"></milestone>εἰπεῖν δὴ τὸν Ἐρυξίμαχον, δοκεῖ τοίνυν μοι ἀναγκαῖον εἶναι, ἐπειδὴ Παυσανίας ὁρμήσας ἐπὶ τὸν λόγον καλῶς οὐχ <milestone n=\"186\" resp=\"Stephanus\" unit=\"page\"></milestone><milestone n=\"186a\" resp=\"Stephanus\" unit=\"section\"></milestone> ἱκανῶς ἀπετέλεσε, δεῖν ἐμὲ πειρᾶσθαι τέλος ἐπιθεῖναι τῷ λόγῳ. τὸ μὲν γὰρ διπλοῦν εἶναι τὸν ἔρωτα δοκεῖ μοι καλῶς διελέσθαι· ὅτι δὲ οὐ μόνον ἐστὶν ἐπὶ ταῖς ψυχαῖς τῶν ἀνθρώπων πρὸς τοὺς καλοὺς ἀλλὰ καὶ πρὸς ἄλλα πολλὰ καὶ ἐν τοῖς ἄλλοις, τοῖς τε σώμασι τῶν πάντων ζῴων καὶ τοῖς ἐν τῇ γῇ φυομένοις καὶ ὡς ἔπος εἰπεῖν ἐν πᾶσι τοῖς οὖσι, καθεωρακέναι μοι δοκῶ ἐκ τῆς ἰατρικῆς, τῆς ἡμετέρας <milestone n=\"186b\" resp=\"Stephanus\" unit=\"section\"></milestone> τέχνης, ὡς μέγας καὶ θαυμαστὸς καὶ ἐπὶ πᾶν ὁ θεὸς τείνει καὶ κατʼ ἀνθρώπινα καὶ κατὰ θεῖα πράγματα. ἄρξομαι δὲ ἀπὸ τῆς ἰατρικῆς λέγων, ἵνα καὶ πρεσβεύωμεν τὴν τέχνην. ἡ γὰρ φύσις τῶν σωμάτων τὸν διπλοῦν ἔρωτα τοῦτον ἔχει· τὸ γὰρ ὑγιὲς τοῦ σώματος καὶ τὸ νοσοῦν ὁμολογουμένως ἕτερόν τε καὶ ἀνόμοιόν ἐστι, τὸ δὲ ἀνόμοιον ἀνομοίων ἐπιθυμεῖ καὶ ἐρᾷ. ἄλλος μὲν οὖν ὁ ἐπὶ τῷ ὑγιεινῷ ἔρως, ἄλλος δὲ ὁ ἐπὶ τῷ νοσώδει. ἔστιν δή, ὥσπερ ἄρτι Παυσανίας ἔλεγεν τοῖς μὲν ἀγαθοῖς καλὸν χαρίζεσθαι τῶν ἀνθρώπων, <milestone n=\"186c\" resp=\"Stephanus\" unit=\"section\"></milestone> τοῖς δʼ ἀκολάστοις αἰσχρόν, οὕτω καὶ ἐν αὐτοῖς τοῖς σώμασιν τοῖς μὲν ἀγαθοῖς ἑκάστου τοῦ σώματος καὶ ὑγιεινοῖς καλὸν χαρίζεσθαι καὶ δεῖ, καὶ τοῦτό ἐστιν ᾧ ὄνομα τὸ ἰατρικόν, τοῖς δὲ κακοῖς καὶ νοσώδεσιν αἰσχρόν τε καὶ δεῖ ἀχαριστεῖν, εἰ μέλλει τις τεχνικὸς εἶναι. ἔστι γὰρ ἰατρική, ὡς ἐν κεφαλαίῳ εἰπεῖν, ἐπιστήμη τῶν τοῦ σώματος ἐρωτικῶν πρὸς πλησμονὴν καὶ κένωσιν, καὶ ὁ διαγιγνώσκων ἐν τούτοις τὸν <milestone n=\"186d\" resp=\"Stephanus\" unit=\"section\"></milestone> καλόν τε καὶ αἰσχρὸν ἔρωτα, οὗτός ἐστιν ὁ ἰατρικώτατος, καὶ ὁ μεταβάλλειν ποιῶν, ὥστε ἀντὶ τοῦ ἑτέρου ἔρωτος τὸν ἕτερον κτᾶσθαι, καὶ οἷς μὴ ἔνεστιν ἔρως, δεῖ δʼ ἐγγενέσθαι, ἐπιστάμενος ἐμποιῆσαι καὶ ἐνόντα ἐξελεῖν, ἀγαθὸς ἂν εἴη δημιουργός. δεῖ γὰρ δὴ τὰ ἔχθιστα ὄντα ἐν τῷ σώματι φίλα οἷόν τʼ εἶναι ποιεῖν καὶ ἐρᾶν ἀλλήλων. ἔστι δὲ ἔχθιστα τὰ ἐναντιώτατα, ψυχρὸν θερμῷ, πικρὸν γλυκεῖ, ξηρὸν ὑγρῷ, <milestone n=\"186e\" resp=\"Stephanus\" unit=\"section\"></milestone> πάντα τὰ τοιαῦτα· τούτοις ἐπιστηθεὶς ἔρωτα ἐμποιῆσαι καὶ ὁμόνοιαν ὁ ἡμέτερος πρόγονος Ἀσκληπιός, ὥς φασιν οἵδε οἱ ποιηταὶ καὶ ἐγὼ πείθομαι, συνέστησεν τὴν ἡμετέραν τέχνην.</said></p></div>\n"
          ]
        }
      ],
      "source": [
        "print(space_elim(str(greek_pages[14])))"
      ]
    },
    {
      "cell_type": "code",
      "execution_count": null,
      "id": "5920ef86",
      "metadata": {
        "ExecuteTime": {
          "end_time": "2023-05-29T20:25:10.569933Z",
          "start_time": "2023-05-29T20:25:10.431926Z"
        },
        "id": "5920ef86",
        "outputId": "7085e39f-c107-4b7e-a745-900174c29687"
      },
      "outputs": [
        {
          "name": "stdout",
          "output_type": "stream",
          "text": [
            "Не могу обработать страницу 178. Тип ошибки: 2\n",
            "Не могу обработать страницу 183. Тип ошибки: 2\n",
            "Не могу обработать страницу 184. Тип ошибки: 2\n",
            "Не могу обработать страницу 185. Тип ошибки: 2\n",
            "Не могу обработать страницу 188. Тип ошибки: 2\n",
            "Не могу обработать страницу 190. Тип ошибки: 2\n",
            "Не могу обработать страницу 191. Тип ошибки: 2\n",
            "Не могу обработать страницу 193. Тип ошибки: 2\n",
            "Не могу обработать страницу 195. Тип ошибки: 2\n",
            "Не могу обработать страницу 211. Тип ошибки: 2\n",
            "Не могу обработать страницу 217. Тип ошибки: 2\n",
            "Не могу обработать страницу 220. Тип ошибки: 2\n"
          ]
        }
      ],
      "source": [
        "greek_xml = []\n",
        "for i, page in enumerate(eng_pages):\n",
        "    n = page['n']\n",
        "    gpage = greek_pages[i]\n",
        "    indirect = page.find_all('said', {\"direct\": \"false\"})\n",
        "    if not indirect:\n",
        "        greek_xml.append(str(gpage))\n",
        "        continue\n",
        "    page_string = space_elim(str(page))\n",
        "    gpage_string = space_elim(str(gpage))\n",
        "\n",
        "    # <said rend=\"merge\" who=\"#Ἀπολλόδωρος\">\n",
        "\n",
        "    said_rend = re.findall('<said rend=\"merge\" who=\"#.+?\">', gpage_string)\n",
        "    said_splitted_eng = re.split('<said rend=\"merge\" who=\"#.+?\">', page_string)\n",
        "    said_splitted_greek = re.split('<said rend=\"merge\" who=\"#.+?\">', gpage_string)\n",
        "\n",
        "    if len(said_splitted_eng) != len(said_splitted_greek):\n",
        "        greek_xml.append(str(gpage_string))\n",
        "        print('Не могу обработать страницу {}. Тип ошибки: 1'.format(n))\n",
        "        continue\n",
        "\n",
        "    for ii, said in enumerate(said_splitted_eng):\n",
        "        if said.startswith('<said direct=\"false\"'):\n",
        "            person = re.search('<said direct=\"false\".+?who=\"(#.+?)\".*?>', said).group(1)\n",
        "            said_splitted_greek[ii] = '<said direct=\"false\" rend=\"merge\" who=\"{}\">'.format(person) + said_splitted_greek[ii]\n",
        "    said_merged_greek = [said_splitted_greek[0]]\n",
        "    for ii, said in enumerate(said_splitted_greek):\n",
        "        if ii:\n",
        "            said_merged_greek.append(said_rend[ii-1] + said)\n",
        "    gpage_string = ''.join(said_merged_greek)\n",
        "\n",
        "    # <milestone ed=\"P\" unit=\"para\">\n",
        "\n",
        "    said_splitted_eng = page_string.split('<milestone ed=\"P\" unit=\"para\"></milestone>')\n",
        "    said_splitted_greek = gpage_string.split('<milestone ed=\"P\" unit=\"para\"></milestone>')\n",
        "\n",
        "    if len(said_splitted_eng) != len(said_splitted_greek):\n",
        "        greek_xml.append(str(gpage_string))\n",
        "        print('Не могу обработать страницу {}. Тип ошибки: 2'.format(n))\n",
        "        continue\n",
        "\n",
        "    for ii, said in enumerate(said_splitted_eng):\n",
        "        if said.startswith('<said direct=\"false\"'):\n",
        "            person = re.search('<said direct=\"false\".+?who=\"(#.+?)\".*?>', said).group(1)\n",
        "            said_splitted_greek[ii] = '<said direct=\"false\" rend=\"merge\" who=\"{}\">'.format(person) + said_splitted_greek[ii]\n",
        "    gpage_string = '<milestone ed=\"P\" unit=\"para\"></milestone>'.join(said_splitted_greek)\n",
        "\n",
        "    # </said>\n",
        "\n",
        "    if '</said></said>' in page_string:\n",
        "        if len(re.findall('</said>', page_string)) == 2:\n",
        "            gpage_string = gpage_string.replace('</said>', '</said></said>')\n",
        "\n",
        "    greek_xml.append(gpage_string)\n",
        "\n",
        ""
      ]
    },
    {
      "cell_type": "markdown",
      "id": "88e28602",
      "metadata": {
        "id": "88e28602"
      },
      "source": [
        "# Проверка XML"
      ]
    },
    {
      "cell_type": "code",
      "execution_count": null,
      "id": "ca0cbfbf",
      "metadata": {
        "ExecuteTime": {
          "end_time": "2023-05-29T20:25:13.695343Z",
          "start_time": "2023-05-29T20:25:13.645875Z"
        },
        "id": "ca0cbfbf",
        "outputId": "c082d1b7-1e94-43e0-fedf-c87f65d19e9b"
      },
      "outputs": [
        {
          "name": "stdout",
          "output_type": "stream",
          "text": [
            "Ошибка xml на странице 180: Opening and ending tag mismatch: said line 1 and p, line 1, column 2244 (<string>, line 1)\n",
            "Ошибка xml на странице 183: Opening and ending tag mismatch: said line 1 and p, line 1, column 3049 (<string>, line 1)\n",
            "Ошибка xml на странице 184: Opening and ending tag mismatch: said line 1 and p, line 1, column 2536 (<string>, line 1)\n",
            "Ошибка xml на странице 185: Opening and ending tag mismatch: said line 1 and p, line 1, column 2404 (<string>, line 1)\n",
            "Ошибка xml на странице 186: Opening and ending tag mismatch: p line 1 and said, line 1, column 2506 (<string>, line 1)\n",
            "Ошибка xml на странице 188: Opening and ending tag mismatch: said line 1 and p, line 1, column 2635 (<string>, line 1)\n",
            "Ошибка xml на странице 189: Opening and ending tag mismatch: said line 1 and p, line 1, column 2691 (<string>, line 1)\n",
            "Ошибка xml на странице 190: Opening and ending tag mismatch: said line 1 and p, line 1, column 2668 (<string>, line 1)\n",
            "Ошибка xml на странице 191: Opening and ending tag mismatch: said line 1 and p, line 1, column 2718 (<string>, line 1)\n",
            "Ошибка xml на странице 193: Opening and ending tag mismatch: said line 1 and p, line 1, column 2712 (<string>, line 1)\n",
            "Ошибка xml на странице 195: Opening and ending tag mismatch: said line 1 and p, line 1, column 2874 (<string>, line 1)\n",
            "Ошибка xml на странице 197: Opening and ending tag mismatch: said line 1 and p, line 1, column 2668 (<string>, line 1)\n",
            "Ошибка xml на странице 201: Opening and ending tag mismatch: p line 1 and said, line 1, column 3447 (<string>, line 1)\n",
            "Ошибка xml на странице 202: Opening and ending tag mismatch: p line 1 and said, line 1, column 3687 (<string>, line 1)\n",
            "Ошибка xml на странице 211: Opening and ending tag mismatch: said line 1 and p, line 1, column 2721 (<string>, line 1)\n",
            "Ошибка xml на странице 212: Opening and ending tag mismatch: said line 1 and p, line 1, column 2729 (<string>, line 1)\n",
            "Ошибка xml на странице 217: Opening and ending tag mismatch: said line 1 and p, line 1, column 2605 (<string>, line 1)\n",
            "Ошибка xml на странице 220: Opening and ending tag mismatch: said line 1 and p, line 1, column 2753 (<string>, line 1)\n",
            "Ошибка xml на странице 222: Opening and ending tag mismatch: said line 1 and p, line 1, column 2947 (<string>, line 1)\n"
          ]
        }
      ],
      "source": [
        "for page in greek_xml:\n",
        "    n = re.search('<div n=\"([0-9]+)\"', page).group(1)\n",
        "    try:\n",
        "        doc = etree.fromstring(page)\n",
        "    except Exception as e:\n",
        "        print('Ошибка xml на странице {}:'.format(n), e)"
      ]
    },
    {
      "cell_type": "markdown",
      "id": "c114e64c",
      "metadata": {
        "id": "c114e64c"
      },
      "source": [
        "# Запись в файл"
      ]
    },
    {
      "cell_type": "code",
      "execution_count": null,
      "id": "c17f4951",
      "metadata": {
        "ExecuteTime": {
          "end_time": "2023-05-29T20:25:17.908715Z",
          "start_time": "2023-05-29T20:25:17.901361Z"
        },
        "id": "c17f4951"
      },
      "outputs": [],
      "source": [
        "with open(\"tlg0059.tlg011.perseus-grc2_indirect.xml\", \"w\") as fw:\n",
        "    fw.write(''.join(head))\n",
        "    fw.write('\\n\\n'.join(greek_xml))\n",
        "    fw.write(''.join(bottom))"
      ]
    },
    {
      "cell_type": "code",
      "execution_count": null,
      "id": "12403841",
      "metadata": {
        "id": "12403841"
      },
      "outputs": [],
      "source": []
    }
  ],
  "metadata": {
    "kernelspec": {
      "display_name": "Python 3",
      "language": "python",
      "name": "python3"
    },
    "language_info": {
      "codemirror_mode": {
        "name": "ipython",
        "version": 3
      },
      "file_extension": ".py",
      "mimetype": "text/x-python",
      "name": "python",
      "nbconvert_exporter": "python",
      "pygments_lexer": "ipython3",
      "version": "3.8.10"
    },
    "toc": {
      "base_numbering": 1,
      "nav_menu": {},
      "number_sections": true,
      "sideBar": true,
      "skip_h1_title": false,
      "title_cell": "Table of Contents",
      "title_sidebar": "Contents",
      "toc_cell": false,
      "toc_position": {
        "height": "calc(100% - 180px)",
        "left": "10px",
        "top": "150px",
        "width": "307.2px"
      },
      "toc_section_display": true,
      "toc_window_display": true
    },
    "varInspector": {
      "cols": {
        "lenName": 16,
        "lenType": 16,
        "lenVar": 40
      },
      "kernels_config": {
        "python": {
          "delete_cmd_postfix": "",
          "delete_cmd_prefix": "del ",
          "library": "var_list.py",
          "varRefreshCmd": "print(var_dic_list())"
        },
        "r": {
          "delete_cmd_postfix": ") ",
          "delete_cmd_prefix": "rm(",
          "library": "var_list.r",
          "varRefreshCmd": "cat(var_dic_list()) "
        }
      },
      "types_to_exclude": [
        "module",
        "function",
        "builtin_function_or_method",
        "instance",
        "_Feature"
      ],
      "window_display": false
    },
    "colab": {
      "provenance": [],
      "include_colab_link": true
    }
  },
  "nbformat": 4,
  "nbformat_minor": 5
}